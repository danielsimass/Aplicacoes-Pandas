{
 "cells": [
  {
   "cell_type": "markdown",
   "metadata": {},
   "source": [
    "# Relatorio de análise VII"
   ]
  },
  {
   "cell_type": "markdown",
   "metadata": {},
   "source": [
    "## Criando agrupamentos"
   ]
  },
  {
   "cell_type": "code",
   "execution_count": 22,
   "metadata": {},
   "outputs": [],
   "source": [
    "import pandas as pd"
   ]
  },
  {
   "cell_type": "code",
   "execution_count": 23,
   "metadata": {},
   "outputs": [],
   "source": [
    "dados = pd.read_csv('dados/aluguel_residencial.csv', sep=';')"
   ]
  },
  {
   "cell_type": "code",
   "execution_count": 24,
   "metadata": {
    "scrolled": true
   },
   "outputs": [
    {
     "data": {
      "text/html": [
       "<div>\n",
       "<style scoped>\n",
       "    .dataframe tbody tr th:only-of-type {\n",
       "        vertical-align: middle;\n",
       "    }\n",
       "\n",
       "    .dataframe tbody tr th {\n",
       "        vertical-align: top;\n",
       "    }\n",
       "\n",
       "    .dataframe thead th {\n",
       "        text-align: right;\n",
       "    }\n",
       "</style>\n",
       "<table border=\"1\" class=\"dataframe\">\n",
       "  <thead>\n",
       "    <tr style=\"text-align: right;\">\n",
       "      <th></th>\n",
       "      <th>Tipo</th>\n",
       "      <th>Bairro</th>\n",
       "      <th>Quartos</th>\n",
       "      <th>Vagas</th>\n",
       "      <th>Suites</th>\n",
       "      <th>Area</th>\n",
       "      <th>Valor</th>\n",
       "      <th>Condominio</th>\n",
       "      <th>IPTU</th>\n",
       "      <th>Valor M2</th>\n",
       "      <th>Tipo Agregado</th>\n",
       "    </tr>\n",
       "  </thead>\n",
       "  <tbody>\n",
       "    <tr>\n",
       "      <th>0</th>\n",
       "      <td>Quitinete</td>\n",
       "      <td>Copacabana</td>\n",
       "      <td>1</td>\n",
       "      <td>0</td>\n",
       "      <td>0</td>\n",
       "      <td>40</td>\n",
       "      <td>1700.0</td>\n",
       "      <td>500.0</td>\n",
       "      <td>60.0</td>\n",
       "      <td>42.50</td>\n",
       "      <td>Apartamento</td>\n",
       "    </tr>\n",
       "    <tr>\n",
       "      <th>1</th>\n",
       "      <td>Casa</td>\n",
       "      <td>Jardim Botânico</td>\n",
       "      <td>2</td>\n",
       "      <td>0</td>\n",
       "      <td>1</td>\n",
       "      <td>100</td>\n",
       "      <td>7000.0</td>\n",
       "      <td>0.0</td>\n",
       "      <td>0.0</td>\n",
       "      <td>70.00</td>\n",
       "      <td>Casa</td>\n",
       "    </tr>\n",
       "    <tr>\n",
       "      <th>2</th>\n",
       "      <td>Apartamento</td>\n",
       "      <td>Centro</td>\n",
       "      <td>1</td>\n",
       "      <td>0</td>\n",
       "      <td>0</td>\n",
       "      <td>15</td>\n",
       "      <td>800.0</td>\n",
       "      <td>390.0</td>\n",
       "      <td>20.0</td>\n",
       "      <td>53.33</td>\n",
       "      <td>Apartamento</td>\n",
       "    </tr>\n",
       "    <tr>\n",
       "      <th>3</th>\n",
       "      <td>Apartamento</td>\n",
       "      <td>Higienópolis</td>\n",
       "      <td>1</td>\n",
       "      <td>0</td>\n",
       "      <td>0</td>\n",
       "      <td>48</td>\n",
       "      <td>800.0</td>\n",
       "      <td>230.0</td>\n",
       "      <td>0.0</td>\n",
       "      <td>16.67</td>\n",
       "      <td>Apartamento</td>\n",
       "    </tr>\n",
       "    <tr>\n",
       "      <th>4</th>\n",
       "      <td>Apartamento</td>\n",
       "      <td>Cachambi</td>\n",
       "      <td>2</td>\n",
       "      <td>0</td>\n",
       "      <td>0</td>\n",
       "      <td>50</td>\n",
       "      <td>1300.0</td>\n",
       "      <td>301.0</td>\n",
       "      <td>17.0</td>\n",
       "      <td>26.00</td>\n",
       "      <td>Apartamento</td>\n",
       "    </tr>\n",
       "    <tr>\n",
       "      <th>...</th>\n",
       "      <td>...</td>\n",
       "      <td>...</td>\n",
       "      <td>...</td>\n",
       "      <td>...</td>\n",
       "      <td>...</td>\n",
       "      <td>...</td>\n",
       "      <td>...</td>\n",
       "      <td>...</td>\n",
       "      <td>...</td>\n",
       "      <td>...</td>\n",
       "      <td>...</td>\n",
       "    </tr>\n",
       "    <tr>\n",
       "      <th>21872</th>\n",
       "      <td>Apartamento</td>\n",
       "      <td>Méier</td>\n",
       "      <td>2</td>\n",
       "      <td>0</td>\n",
       "      <td>0</td>\n",
       "      <td>70</td>\n",
       "      <td>900.0</td>\n",
       "      <td>490.0</td>\n",
       "      <td>48.0</td>\n",
       "      <td>12.86</td>\n",
       "      <td>Apartamento</td>\n",
       "    </tr>\n",
       "    <tr>\n",
       "      <th>21873</th>\n",
       "      <td>Quitinete</td>\n",
       "      <td>Centro</td>\n",
       "      <td>0</td>\n",
       "      <td>0</td>\n",
       "      <td>0</td>\n",
       "      <td>27</td>\n",
       "      <td>800.0</td>\n",
       "      <td>350.0</td>\n",
       "      <td>25.0</td>\n",
       "      <td>29.63</td>\n",
       "      <td>Apartamento</td>\n",
       "    </tr>\n",
       "    <tr>\n",
       "      <th>21874</th>\n",
       "      <td>Apartamento</td>\n",
       "      <td>Jacarepaguá</td>\n",
       "      <td>3</td>\n",
       "      <td>1</td>\n",
       "      <td>2</td>\n",
       "      <td>78</td>\n",
       "      <td>1800.0</td>\n",
       "      <td>800.0</td>\n",
       "      <td>40.0</td>\n",
       "      <td>23.08</td>\n",
       "      <td>Apartamento</td>\n",
       "    </tr>\n",
       "    <tr>\n",
       "      <th>21875</th>\n",
       "      <td>Apartamento</td>\n",
       "      <td>São Francisco Xavier</td>\n",
       "      <td>2</td>\n",
       "      <td>1</td>\n",
       "      <td>0</td>\n",
       "      <td>48</td>\n",
       "      <td>1400.0</td>\n",
       "      <td>509.0</td>\n",
       "      <td>37.0</td>\n",
       "      <td>29.17</td>\n",
       "      <td>Apartamento</td>\n",
       "    </tr>\n",
       "    <tr>\n",
       "      <th>21876</th>\n",
       "      <td>Apartamento</td>\n",
       "      <td>Leblon</td>\n",
       "      <td>2</td>\n",
       "      <td>0</td>\n",
       "      <td>0</td>\n",
       "      <td>70</td>\n",
       "      <td>3000.0</td>\n",
       "      <td>760.0</td>\n",
       "      <td>0.0</td>\n",
       "      <td>42.86</td>\n",
       "      <td>Apartamento</td>\n",
       "    </tr>\n",
       "  </tbody>\n",
       "</table>\n",
       "<p>21877 rows × 11 columns</p>\n",
       "</div>"
      ],
      "text/plain": [
       "              Tipo                Bairro  Quartos  Vagas  Suites  Area  \\\n",
       "0        Quitinete            Copacabana        1      0       0    40   \n",
       "1             Casa       Jardim Botânico        2      0       1   100   \n",
       "2      Apartamento                Centro        1      0       0    15   \n",
       "3      Apartamento          Higienópolis        1      0       0    48   \n",
       "4      Apartamento              Cachambi        2      0       0    50   \n",
       "...            ...                   ...      ...    ...     ...   ...   \n",
       "21872  Apartamento                 Méier        2      0       0    70   \n",
       "21873    Quitinete                Centro        0      0       0    27   \n",
       "21874  Apartamento           Jacarepaguá        3      1       2    78   \n",
       "21875  Apartamento  São Francisco Xavier        2      1       0    48   \n",
       "21876  Apartamento                Leblon        2      0       0    70   \n",
       "\n",
       "        Valor  Condominio  IPTU  Valor M2 Tipo Agregado  \n",
       "0      1700.0       500.0  60.0     42.50   Apartamento  \n",
       "1      7000.0         0.0   0.0     70.00          Casa  \n",
       "2       800.0       390.0  20.0     53.33   Apartamento  \n",
       "3       800.0       230.0   0.0     16.67   Apartamento  \n",
       "4      1300.0       301.0  17.0     26.00   Apartamento  \n",
       "...       ...         ...   ...       ...           ...  \n",
       "21872   900.0       490.0  48.0     12.86   Apartamento  \n",
       "21873   800.0       350.0  25.0     29.63   Apartamento  \n",
       "21874  1800.0       800.0  40.0     23.08   Apartamento  \n",
       "21875  1400.0       509.0  37.0     29.17   Apartamento  \n",
       "21876  3000.0       760.0   0.0     42.86   Apartamento  \n",
       "\n",
       "[21877 rows x 11 columns]"
      ]
     },
     "execution_count": 24,
     "metadata": {},
     "output_type": "execute_result"
    }
   ],
   "source": [
    "dados\n"
   ]
  },
  {
   "cell_type": "code",
   "execution_count": 25,
   "metadata": {},
   "outputs": [
    {
     "data": {
      "text/plain": [
       "Quartos          2.522421\n",
       "Vagas            1.309549\n",
       "Suites           0.957764\n",
       "Area           137.973305\n",
       "Valor         5040.372080\n",
       "Condominio    1560.768341\n",
       "IPTU           575.976734\n",
       "Valor M2        35.884625\n",
       "dtype: float64"
      ]
     },
     "execution_count": 25,
     "metadata": {},
     "output_type": "execute_result"
    }
   ],
   "source": [
    "dados.mean()"
   ]
  },
  {
   "cell_type": "code",
   "execution_count": 26,
   "metadata": {},
   "outputs": [
    {
     "data": {
      "text/plain": [
       "['Copacabana', 'Centro', 'Ipanema', 'Botafogo']"
      ]
     },
     "execution_count": 26,
     "metadata": {},
     "output_type": "execute_result"
    }
   ],
   "source": [
    "bairros = ['Centro', 'Copacabana', 'Ipanema', 'Botafogo']\n",
    "selecao = dados['Bairro'].isin(bairros)\n",
    "\n",
    "dados_bairro = dados[selecao]\n",
    "list(dados_bairro['Bairro'].drop_duplicates())\n",
    "\n",
    "\n"
   ]
  },
  {
   "cell_type": "code",
   "execution_count": 27,
   "metadata": {
    "scrolled": true
   },
   "outputs": [],
   "source": [
    "grupo_bairro = dados_bairro.groupby('Bairro')"
   ]
  },
  {
   "cell_type": "code",
   "execution_count": 28,
   "metadata": {
    "scrolled": false
   },
   "outputs": [
    {
     "data": {
      "text/plain": [
       "Bairro\n",
       "Botafogo      8791.83\n",
       "Centro        1256.34\n",
       "Copacabana    4120.05\n",
       "Ipanema       9334.64\n",
       "Name: Valor, dtype: float64"
      ]
     },
     "execution_count": 28,
     "metadata": {},
     "output_type": "execute_result"
    }
   ],
   "source": [
    "grupo_bairro['Valor'].mean().round(2)"
   ]
  },
  {
   "cell_type": "code",
   "execution_count": 29,
   "metadata": {
    "scrolled": true
   },
   "outputs": [
    {
     "data": {
      "text/plain": [
       "{'Botafogo': [23, 48, 87, 88, 111, 119, 127, 134, 196, 200, 225, 335, 363, 416, 417, 499, 525, 527, 546, 595, 651, 687, 721, 758, 767, 824, 829, 863, 918, 927, 931, 1009, 1046, 1083, 1094, 1113, 1119, 1130, 1143, 1168, 1204, 1208, 1226, 1253, 1285, 1298, 1307, 1320, 1351, 1386, 1417, 1422, 1458, 1520, 1532, 1582, 1633, 1658, 1673, 1702, 1744, 1745, 1791, 1817, 1826, 1829, 1856, 1925, 1934, 1960, 1975, 1984, 1992, 2033, 2070, 2073, 2085, 2087, 2088, 2092, 2101, 2152, 2153, 2169, 2184, 2202, 2247, 2252, 2302, 2357, 2386, 2401, 2418, 2436, 2438, 2475, 2514, 2524, 2537, 2585, ...], 'Centro': [2, 38, 65, 71, 146, 181, 191, 313, 428, 587, 667, 828, 872, 942, 947, 957, 1019, 1114, 1118, 1139, 1324, 1388, 1486, 1499, 1616, 1636, 1694, 1700, 1736, 1740, 1848, 1894, 1904, 2010, 2089, 2102, 2160, 2172, 2196, 2241, 2244, 2263, 2331, 2450, 2471, 2610, 2619, 2977, 3082, 3088, 3096, 3248, 3286, 3337, 3338, 3351, 3490, 3539, 3585, 3699, 3781, 3874, 3918, 3938, 3946, 4035, 4037, 4052, 4187, 4337, 4381, 4455, 4474, 4513, 4730, 4800, 4850, 4871, 4889, 4927, 4945, 4946, 5029, 5044, 5062, 5090, 5115, 5125, 5170, 5174, 5185, 5301, 5327, 5351, 5395, 5462, 5643, 5707, 5742, 5813, ...], 'Copacabana': [0, 9, 10, 11, 24, 25, 28, 31, 86, 91, 104, 109, 125, 129, 140, 142, 143, 151, 162, 174, 184, 192, 194, 206, 223, 250, 264, 276, 279, 282, 290, 291, 302, 308, 320, 328, 330, 349, 360, 366, 372, 373, 389, 397, 405, 426, 427, 438, 459, 461, 486, 487, 488, 498, 531, 533, 535, 558, 565, 575, 576, 585, 608, 612, 614, 617, 635, 652, 661, 668, 669, 680, 689, 691, 696, 703, 715, 732, 738, 741, 774, 810, 826, 838, 875, 884, 897, 901, 910, 915, 920, 922, 924, 925, 932, 955, 966, 967, 983, 992, ...], 'Ipanema': [19, 39, 40, 45, 52, 53, 73, 84, 92, 114, 121, 128, 141, 159, 177, 179, 216, 217, 230, 243, 246, 270, 284, 327, 339, 342, 371, 378, 387, 393, 406, 445, 483, 490, 516, 524, 536, 570, 577, 578, 579, 581, 591, 593, 616, 626, 630, 649, 650, 658, 673, 683, 692, 710, 712, 719, 727, 731, 733, 748, 749, 755, 759, 781, 785, 794, 802, 812, 814, 818, 831, 861, 862, 880, 891, 908, 909, 926, 930, 941, 954, 956, 973, 986, 988, 997, 1004, 1013, 1025, 1030, 1036, 1052, 1053, 1055, 1057, 1061, 1063, 1081, 1089, 1095, ...]}"
      ]
     },
     "execution_count": 29,
     "metadata": {},
     "output_type": "execute_result"
    }
   ],
   "source": [
    "grupo_bairro.groups\n"
   ]
  },
  {
   "cell_type": "code",
   "execution_count": 30,
   "metadata": {},
   "outputs": [
    {
     "name": "stdout",
     "output_type": "stream",
     "text": [
      "              Tipo    Bairro  Quartos  Vagas  Suites  Area   Valor  \\\n",
      "23     Apartamento  Botafogo        2      1       0    76  2500.0   \n",
      "48     Apartamento  Botafogo        3      1       1   108  5950.0   \n",
      "87     Apartamento  Botafogo        2      1       1    83  2800.0   \n",
      "88     Apartamento  Botafogo        2      1       1    80  4300.0   \n",
      "111    Apartamento  Botafogo        3      1       1   100  5500.0   \n",
      "...            ...       ...      ...    ...     ...   ...     ...   \n",
      "21711  Apartamento  Botafogo        2      0       0    60  1900.0   \n",
      "21717  Apartamento  Botafogo        1      0       0    51  2000.0   \n",
      "21766  Apartamento  Botafogo        2      1       1    52  3100.0   \n",
      "21797  Apartamento  Botafogo        2      1       2    84  4230.0   \n",
      "21841  Apartamento  Botafogo        3      2       1   100  4500.0   \n",
      "\n",
      "       Condominio   IPTU  Valor M2 Tipo Agregado  \n",
      "23          740.0    0.0     32.89   Apartamento  \n",
      "48         1405.0  289.0     55.09   Apartamento  \n",
      "87          560.0  138.0     33.73   Apartamento  \n",
      "88         1178.0  187.0     53.75   Apartamento  \n",
      "111        1300.0  220.0     55.00   Apartamento  \n",
      "...           ...    ...       ...           ...  \n",
      "21711       900.0   75.0     31.67   Apartamento  \n",
      "21717       590.0   26.0     39.22   Apartamento  \n",
      "21766      1700.0  330.0     59.62   Apartamento  \n",
      "21797      1130.0  260.0     50.36   Apartamento  \n",
      "21841      1600.0  205.0     45.00   Apartamento  \n",
      "\n",
      "[873 rows x 11 columns]\n",
      "              Tipo  Bairro  Quartos  Vagas  Suites  Area   Valor  Condominio  \\\n",
      "2      Apartamento  Centro        1      0       0    15   800.0       390.0   \n",
      "38     Apartamento  Centro        1      0       0    27   750.0       371.0   \n",
      "65     Apartamento  Centro        1      1       0    37  1100.0       540.0   \n",
      "71       Quitinete  Centro        0      0       0    30   800.0       505.0   \n",
      "146      Quitinete  Centro        0      0       0    28   700.0       400.0   \n",
      "...            ...     ...      ...    ...     ...   ...     ...         ...   \n",
      "21596         Casa  Centro        2      0       0   207  4000.0         0.0   \n",
      "21676  Apartamento  Centro        2      0       0    70  2500.0       660.0   \n",
      "21799    Quitinete  Centro        1      0       0    24  1100.0       323.0   \n",
      "21855         Casa  Centro        5      0       1   160  5000.0         0.0   \n",
      "21873    Quitinete  Centro        0      0       0    27   800.0       350.0   \n",
      "\n",
      "        IPTU  Valor M2 Tipo Agregado  \n",
      "2       20.0     53.33   Apartamento  \n",
      "38      19.0     27.78   Apartamento  \n",
      "65     900.0     29.73   Apartamento  \n",
      "71       0.0     26.67   Apartamento  \n",
      "146     16.0     25.00   Apartamento  \n",
      "...      ...       ...           ...  \n",
      "21596    0.0     19.32          Casa  \n",
      "21676   85.0     35.71   Apartamento  \n",
      "21799    0.0     45.83   Apartamento  \n",
      "21855   80.0     31.25          Casa  \n",
      "21873   25.0     29.63   Apartamento  \n",
      "\n",
      "[344 rows x 11 columns]\n",
      "              Tipo      Bairro  Quartos  Vagas  Suites  Area    Valor  \\\n",
      "0        Quitinete  Copacabana        1      0       0    40   1700.0   \n",
      "9      Apartamento  Copacabana        1      0       1    40   2000.0   \n",
      "10       Quitinete  Copacabana        1      0       0    27   1800.0   \n",
      "11     Apartamento  Copacabana        4      3       1   243  13000.0   \n",
      "24     Apartamento  Copacabana        3      1       2   378  10000.0   \n",
      "...            ...         ...      ...    ...     ...   ...      ...   \n",
      "21834  Apartamento  Copacabana        1      0       0    60   2400.0   \n",
      "21846  Apartamento  Copacabana        2      0       0    67   2450.0   \n",
      "21860  Apartamento  Copacabana        2      0       1    70   4100.0   \n",
      "21861  Apartamento  Copacabana        1      0       0    50   1950.0   \n",
      "21866    Quitinete  Copacabana        1      0       0    22   1500.0   \n",
      "\n",
      "       Condominio   IPTU  Valor M2 Tipo Agregado  \n",
      "0           500.0   60.0     42.50   Apartamento  \n",
      "9           561.0   50.0     50.00   Apartamento  \n",
      "10          501.0    0.0     66.67   Apartamento  \n",
      "11         2000.0  803.0     53.50   Apartamento  \n",
      "24         2150.0  700.0     26.46   Apartamento  \n",
      "...           ...    ...       ...           ...  \n",
      "21834       530.0   78.0     40.00   Apartamento  \n",
      "21846       679.0   80.0     36.57   Apartamento  \n",
      "21860       700.0   90.0     58.57   Apartamento  \n",
      "21861       450.0   70.0     39.00   Apartamento  \n",
      "21866       286.0  200.0     68.18   Apartamento  \n",
      "\n",
      "[2656 rows x 11 columns]\n",
      "              Tipo   Bairro  Quartos  Vagas  Suites  Area    Valor  \\\n",
      "19     Apartamento  Ipanema        3      1       1   125   7000.0   \n",
      "39     Apartamento  Ipanema        1      0       0    35   2000.0   \n",
      "40     Apartamento  Ipanema        1      0       0    38   1400.0   \n",
      "45     Apartamento  Ipanema        3      1       0    87   3200.0   \n",
      "52     Apartamento  Ipanema        3      2       1   150   8000.0   \n",
      "...            ...      ...      ...    ...     ...   ...      ...   \n",
      "21796  Apartamento  Ipanema        4      2       3   203  12000.0   \n",
      "21805  Apartamento  Ipanema        3      1       1   140   7200.0   \n",
      "21839  Apartamento  Ipanema        3      1       1   118   6000.0   \n",
      "21847  Apartamento  Ipanema        1      0       0    55   2000.0   \n",
      "21868  Apartamento  Ipanema        3      1       2   150  15000.0   \n",
      "\n",
      "       Condominio   IPTU  Valor M2 Tipo Agregado  \n",
      "19         2100.0  463.0     56.00   Apartamento  \n",
      "39          650.0   75.0     57.14   Apartamento  \n",
      "40          530.0   77.0     36.84   Apartamento  \n",
      "45         1305.0  217.0     36.78   Apartamento  \n",
      "52         2400.0    0.0     53.33   Apartamento  \n",
      "...           ...    ...       ...           ...  \n",
      "21796      1650.0  538.0     59.11   Apartamento  \n",
      "21805      2900.0  850.0     51.43   Apartamento  \n",
      "21839       980.0  250.0     50.85   Apartamento  \n",
      "21847       630.0   19.0     36.36   Apartamento  \n",
      "21868      1400.0  600.0    100.00   Apartamento  \n",
      "\n",
      "[1769 rows x 11 columns]\n"
     ]
    }
   ],
   "source": [
    "for b, d in grupo_bairro:\n",
    "    print(d)"
   ]
  },
  {
   "cell_type": "markdown",
   "metadata": {},
   "source": [
    "## Estatísticas Descritivas"
   ]
  },
  {
   "cell_type": "code",
   "execution_count": 31,
   "metadata": {},
   "outputs": [
    {
     "data": {
      "text/html": [
       "<div>\n",
       "<style scoped>\n",
       "    .dataframe tbody tr th:only-of-type {\n",
       "        vertical-align: middle;\n",
       "    }\n",
       "\n",
       "    .dataframe tbody tr th {\n",
       "        vertical-align: top;\n",
       "    }\n",
       "\n",
       "    .dataframe thead th {\n",
       "        text-align: right;\n",
       "    }\n",
       "</style>\n",
       "<table border=\"1\" class=\"dataframe\">\n",
       "  <thead>\n",
       "    <tr style=\"text-align: right;\">\n",
       "      <th></th>\n",
       "      <th>count</th>\n",
       "      <th>mean</th>\n",
       "      <th>std</th>\n",
       "      <th>min</th>\n",
       "      <th>25%</th>\n",
       "      <th>50%</th>\n",
       "      <th>75%</th>\n",
       "      <th>max</th>\n",
       "    </tr>\n",
       "    <tr>\n",
       "      <th>Bairro</th>\n",
       "      <th></th>\n",
       "      <th></th>\n",
       "      <th></th>\n",
       "      <th></th>\n",
       "      <th></th>\n",
       "      <th></th>\n",
       "      <th></th>\n",
       "      <th></th>\n",
       "    </tr>\n",
       "  </thead>\n",
       "  <tbody>\n",
       "    <tr>\n",
       "      <th>Botafogo</th>\n",
       "      <td>873.0</td>\n",
       "      <td>8791.83</td>\n",
       "      <td>152202.41</td>\n",
       "      <td>700.0</td>\n",
       "      <td>2200.0</td>\n",
       "      <td>3000.0</td>\n",
       "      <td>4350.0</td>\n",
       "      <td>4500000.0</td>\n",
       "    </tr>\n",
       "    <tr>\n",
       "      <th>Centro</th>\n",
       "      <td>344.0</td>\n",
       "      <td>1256.34</td>\n",
       "      <td>883.87</td>\n",
       "      <td>400.0</td>\n",
       "      <td>800.0</td>\n",
       "      <td>1000.0</td>\n",
       "      <td>1400.0</td>\n",
       "      <td>12000.0</td>\n",
       "    </tr>\n",
       "    <tr>\n",
       "      <th>Copacabana</th>\n",
       "      <td>2656.0</td>\n",
       "      <td>4120.05</td>\n",
       "      <td>3605.32</td>\n",
       "      <td>100.0</td>\n",
       "      <td>2000.0</td>\n",
       "      <td>3000.0</td>\n",
       "      <td>4800.0</td>\n",
       "      <td>35000.0</td>\n",
       "    </tr>\n",
       "    <tr>\n",
       "      <th>Ipanema</th>\n",
       "      <td>1769.0</td>\n",
       "      <td>9334.64</td>\n",
       "      <td>8214.70</td>\n",
       "      <td>1200.0</td>\n",
       "      <td>4500.0</td>\n",
       "      <td>7000.0</td>\n",
       "      <td>11000.0</td>\n",
       "      <td>90000.0</td>\n",
       "    </tr>\n",
       "  </tbody>\n",
       "</table>\n",
       "</div>"
      ],
      "text/plain": [
       "             count     mean        std     min     25%     50%      75%  \\\n",
       "Bairro                                                                    \n",
       "Botafogo     873.0  8791.83  152202.41   700.0  2200.0  3000.0   4350.0   \n",
       "Centro       344.0  1256.34     883.87   400.0   800.0  1000.0   1400.0   \n",
       "Copacabana  2656.0  4120.05    3605.32   100.0  2000.0  3000.0   4800.0   \n",
       "Ipanema     1769.0  9334.64    8214.70  1200.0  4500.0  7000.0  11000.0   \n",
       "\n",
       "                  max  \n",
       "Bairro                 \n",
       "Botafogo    4500000.0  \n",
       "Centro        12000.0  \n",
       "Copacabana    35000.0  \n",
       "Ipanema       90000.0  "
      ]
     },
     "execution_count": 31,
     "metadata": {},
     "output_type": "execute_result"
    }
   ],
   "source": [
    "grupo_bairro['Valor'].describe().round(2)"
   ]
  },
  {
   "cell_type": "code",
   "execution_count": null,
   "metadata": {},
   "outputs": [],
   "source": []
  },
  {
   "cell_type": "code",
   "execution_count": 32,
   "metadata": {},
   "outputs": [],
   "source": [
    "\n",
    "import matplotlib as plt\n",
    "plt.rc('figure', figsize = (20, 10))"
   ]
  },
  {
   "cell_type": "code",
   "execution_count": 36,
   "metadata": {},
   "outputs": [
    {
     "data": {
      "text/plain": [
       "<AxesSubplot:xlabel='Bairro'>"
      ]
     },
     "execution_count": 36,
     "metadata": {},
     "output_type": "execute_result"
    },
    {
     "data": {
      "image/png": "[encoded data removed]",
      "text/plain": [
       "<Figure size 1440x720 with 1 Axes>"
      ]
     },
     "metadata": {
      "needs_background": "light"
     },
     "output_type": "display_data"
    }
   ],
   "source": [
    "grupo_bairro['Valor'].max().plot.bar(color = 'green')"
   ]
  },
  {
   "cell_type": "code",
   "execution_count": null,
   "metadata": {},
   "outputs": [],
   "source": []
  }
 ],
 "metadata": {
  "kernelspec": {
   "display_name": "Python 3",
   "language": "python",
   "name": "python3"
  },
  "language_info": {
   "codemirror_mode": {
    "name": "ipython",
    "version": 3
   },
   "file_extension": ".py",
   "mimetype": "text/x-python",
   "name": "python",
   "nbconvert_exporter": "python",
   "pygments_lexer": "ipython3",
   "version": "3.8.5"
  }
 },
 "nbformat": 4,
 "nbformat_minor": 4
}
